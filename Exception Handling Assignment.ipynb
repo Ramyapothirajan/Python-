{
 "cells": [
  {
   "cell_type": "code",
   "execution_count": 19,
   "id": "682ccdec",
   "metadata": {},
   "outputs": [],
   "source": [
    "#1)Write the code in python to open a file named “try.txt” ?\n",
    "import os\n",
    "os.getcwd()\n",
    "file_new = open(\"try.txt\", 'x')\n",
    "file_new.close()\n"
   ]
  },
  {
   "cell_type": "code",
   "execution_count": 8,
   "id": "3f2efe50",
   "metadata": {},
   "outputs": [
    {
     "name": "stdout",
     "output_type": "stream",
     "text": [
      "Enter a number :7\n",
      "The given number is Positive\n"
     ]
    }
   ],
   "source": [
    "#4) Custom exception\n",
    "# The given number is negative or positive \n",
    "\n",
    "n = int(input(\"Enter a number :\"))\n",
    "if n < 0 :\n",
    "    raise Exception(\"The given number is Negative\")\n",
    "else :\n",
    "    print(\"The given number is Positive\")\n",
    "    "
   ]
  },
  {
   "cell_type": "code",
   "execution_count": 12,
   "id": "338db867",
   "metadata": {},
   "outputs": [
    {
     "name": "stdout",
     "output_type": "stream",
     "text": [
      "Enter a number :23\n",
      "Note : Number should lies between 0 and 20\n",
      "Enter a valid input to perform cube function\n",
      "Enter a number :4\n",
      "The cube of a number is : 64\n"
     ]
    }
   ],
   "source": [
    "#4) Custom exception\n",
    "# cube the number if it lies between 0 to 20\n",
    "\n",
    "def calculate_cube():   \n",
    "    while True:\n",
    "            try:\n",
    "                num = int(input(\"Enter a number :\")) \n",
    "                if num < 0 or num>20 :\n",
    "                    raise Exception(\"Note : Number should lies between 0 and 20\")\n",
    "                else:\n",
    "                    return num**3\n",
    "            except Exception as e:\n",
    "                print(e)\n",
    "                print(\"Enter a valid input to perform cube function\")\n",
    "    \n",
    "result = calculate_cube()\n",
    "print(\"The cube of a number is :\",result)"
   ]
  },
  {
   "cell_type": "code",
   "execution_count": 22,
   "id": "2e7c10b9",
   "metadata": {},
   "outputs": [
    {
     "name": "stdout",
     "output_type": "stream",
     "text": [
      "Enter a number: 14\n",
      "You are not eligible for voting\n"
     ]
    }
   ],
   "source": [
    "#4) Custom exception\n",
    "# If the person's age is greater than or equal to 18, then they can vote \n",
    "\n",
    "number = 18\n",
    "\n",
    "class InvalidAgeException(Exception):\n",
    "    pass\n",
    "\n",
    "def num_function(input_num):\n",
    "    if input_num < number:\n",
    "        raise InvalidAgeException(\"You are not eligible for voting\")\n",
    "    else:\n",
    "        return (\"You are eligible to vote\")\n",
    "try:\n",
    "    input_num = int(input(\"Enter a number: \"))\n",
    "    result = num_function(input_num)\n",
    "    print(result)\n",
    "          \n",
    "except InvalidAgeException as e:\n",
    "    print(e)"
   ]
  }
 ],
 "metadata": {
  "kernelspec": {
   "display_name": "Python 3 (ipykernel)",
   "language": "python",
   "name": "python3"
  },
  "language_info": {
   "codemirror_mode": {
    "name": "ipython",
    "version": 3
   },
   "file_extension": ".py",
   "mimetype": "text/x-python",
   "name": "python",
   "nbconvert_exporter": "python",
   "pygments_lexer": "ipython3",
   "version": "3.10.9"
  }
 },
 "nbformat": 4,
 "nbformat_minor": 5
}
