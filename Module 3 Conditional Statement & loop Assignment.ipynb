{
 "cells": [
  {
   "cell_type": "code",
   "execution_count": 1,
   "id": "af944425",
   "metadata": {},
   "outputs": [
    {
     "name": "stdout",
     "output_type": "stream",
     "text": [
      "Enter your age: 56\n",
      "Normal Citizen\n"
     ]
    }
   ],
   "source": [
    "#Take a variable ‘age’ which is of positive value and check the following:\n",
    "#a.\tIf age is less than 10, print “Children”.\n",
    "#b.\tIf age is more than 60 , print ‘senior citizens’\n",
    "#c.\t If it is in between 10 and 60, print ‘normal citizen’\n",
    "\n",
    "age = abs(int(input(\"Enter your age: \")))\n",
    "\n",
    "if(age<10):\n",
    "    print(\"Children\")\n",
    "elif(age>10 and age<60):\n",
    "    print(\"Normal Citizen\")\n",
    "else:\n",
    "    print(\"Senior Citizen\")\n"
   ]
  },
  {
   "cell_type": "code",
   "execution_count": 2,
   "id": "1d5b45a3",
   "metadata": {},
   "outputs": [
    {
     "name": "stdout",
     "output_type": "stream",
     "text": [
      "Enter the gender: MALE\n",
      "Enter your age : 57\n",
      "Total fare of a ticket : 385\n",
      "The fare of a train ticket is  270\n"
     ]
    }
   ],
   "source": [
    "#2.\tFind  the final train ticket price with the following conditions. \n",
    "#a.\tIf male and sr.citizen, 70% of fare is applicable\n",
    "#b.\tIf female and sr.citizen, 50% of fare is applicable.\n",
    "#c.\tIf female and normal citizen, 70% of fare is applicable\n",
    "#d.\tIf male and normal citizen, 100% of fare is applicable\n",
    "\n",
    "gender = str(input(\"Enter the gender: \"))\n",
    "gender = gender.lower()\n",
    "age=abs(int(input(\"Enter your age : \"))) \n",
    "Fare=abs(int(input(\"Total fare of a ticket : \"))) \n",
    " \n",
    "if gender == \"male\" :\n",
    "    if age <60 : \n",
    "        Fare *= 0.7\n",
    "        Fare = round(Fare)\n",
    "        print(\"The fare of a train ticket is \",Fare)\n",
    "    else:\n",
    "        Fare *= 1\n",
    "        print(\"The fare of a train ticket is \",Fare)\n",
    "elif gender == \"female\": \n",
    "    if age < 60 :\n",
    "        Fare *= 0.7\n",
    "        Fare = round(Fare)\n",
    "        print(\"The fare of a train ticket is \",Fare)\n",
    "    else:\n",
    "        Fare *= 0.5\n",
    "        Fare = round(Fare)\n",
    "        print(\"The fare of a train ticket is \",Fare)"
   ]
  },
  {
   "cell_type": "code",
   "execution_count": 4,
   "id": "eb67330f",
   "metadata": {},
   "outputs": [
    {
     "name": "stdout",
     "output_type": "stream",
     "text": [
      "Enter the number : -17\n",
      "The given number is negative also not divisible by 5\n"
     ]
    }
   ],
   "source": [
    "#3.\tCheck whether the given number is positive and divisible by 5 or not.  \n",
    "\n",
    "num = int(input(\"Enter the number : \"))\n",
    "\n",
    "if(num > 0 ):\n",
    "    if(num%5==0):\n",
    "        print (\"The given number is positive and divisible by 5\")\n",
    "    else:\n",
    "        print(\"The given number is positive also not divisible by 5\")\n",
    "elif(num<0):\n",
    "    if(num%5==0):\n",
    "        print (\"The given number is negative and divisible by 5\")\n",
    "    else:\n",
    "        print(\"The given number is negative also not divisible by 5\")\n",
    "else:\n",
    "    print(\"The given number is 0 which cannot be divisible by any number\")\n",
    "    "
   ]
  },
  {
   "cell_type": "code",
   "execution_count": 7,
   "id": "4d016f8d",
   "metadata": {},
   "outputs": [
    {
     "name": "stdout",
     "output_type": "stream",
     "text": [
      "(0, 1)\n",
      "(1, 5.5)\n",
      "(2, (10+20j))\n",
      "(3, 'data science')\n",
      "1\n",
      "4\n",
      "2\n",
      "['data science', (10+20j), 5.5, 1]\n",
      "[1, 5.5, (10+20j), 'data science', 4]\n",
      "[1, (10+20j), 'data science', 4]\n",
      "data science\n",
      "[1, (10+20j), 4]\n",
      "[1, 'Apple', (10+20j), 4]\n"
     ]
    }
   ],
   "source": [
    "#1.\tA) list1=[1,5.5,(10+20j),’data science’].. Print default functions and parameters exists in list1.\n",
    "\n",
    "list1=[1,5.5,(10+20j),'data science']\n",
    "for i in enumerate(list1):\n",
    "    print(i)\n",
    "    \n",
    "print(list1.count(1))   \n",
    "print(len(list1))\n",
    "\n",
    "print(list1.index(10+20j))\n",
    "list1.reverse()\n",
    "print(list1)\n",
    "\n",
    "list1=[1,5.5,(10+20j),'data science']\n",
    "list1.append(4)\n",
    "print(list1)\n",
    "list1.remove(5.5)\n",
    "print(list1)\n",
    "print(list1.pop(2))\n",
    "print(list1)\n",
    "list1.insert(1,\"Apple\")\n",
    "print(list1)"
   ]
  },
  {
   "cell_type": "code",
   "execution_count": 10,
   "id": "b5495df6",
   "metadata": {},
   "outputs": [
    {
     "name": "stdout",
     "output_type": "stream",
     "text": [
      "1\n",
      "2\n",
      "3\n",
      "4\n",
      "5\n",
      "6\n",
      "7\n",
      "8\n",
      "9\n",
      "10\n",
      "11\n",
      "{3, 6, 9, 12, 15, 18}\n"
     ]
    }
   ],
   "source": [
    "#1. B) How do we create a sequence of numbers in Python\n",
    "\n",
    "\n",
    "for i in range(1,12):\n",
    "   print(i)\n",
    "\n",
    "\n",
    "var2=set(range(3,20,3))\n",
    "print(var2)"
   ]
  },
  {
   "cell_type": "code",
   "execution_count": 11,
   "id": "e143c50b",
   "metadata": {},
   "outputs": [
    {
     "name": "stdout",
     "output_type": "stream",
     "text": [
      "Enter number : 6\n",
      "[1, 2, 3, 4, 5, 6]\n"
     ]
    }
   ],
   "source": [
    "#Read the input from keyboard and print a sequence of numbers up to that number\n",
    "\n",
    "i = int(input(\"Enter number : \"))\n",
    "output = list(range(1,i+1))\n",
    "print(output)"
   ]
  },
  {
   "cell_type": "code",
   "execution_count": 12,
   "id": "6b33bc55",
   "metadata": {},
   "outputs": [
    {
     "name": "stdout",
     "output_type": "stream",
     "text": [
      "{'zero': 0, 'one': 1, 'two': 2, 'three': 3, 'four': 4, 'five': 5, 'six': 6, 'seven': 7, 'eight': 8, 'nine': 9}\n"
     ]
    }
   ],
   "source": [
    "#2.\tCreate 2 lists.. one list contains 10 numbers (list1=[0,1,2,3....9]) and other \n",
    "#list contains words of those 10 numbers (list2=['zero','one','two',.... ,'nine']).\n",
    "# Create a dictionary such that list2 are keys and list 1 are values..\n",
    "\n",
    "list_1=list(range(0,10))\n",
    "list_2=['zero','one','two','three','four','five','six','seven','eight','nine']\n",
    "dict={}\n",
    "for i,j in zip(list_2,list_1):\n",
    "    dict[i]=j\n",
    "print(dict)\n"
   ]
  },
  {
   "cell_type": "code",
   "execution_count": 14,
   "id": "20a05370",
   "metadata": {},
   "outputs": [
    {
     "name": "stdout",
     "output_type": "stream",
     "text": [
      "[15, 14, 25, 16, 35, 18]\n"
     ]
    }
   ],
   "source": [
    "#3.\t Consider a list1 [3,4,5,6,7,8]. \n",
    "#Create a new list2 such that Add 10 to the even number and multiply with 5 if it is odd number in the list1..\n",
    "\n",
    "list1 = [3,4,5,6,7,8]\n",
    "list2 = []\n",
    "for i in list1:\n",
    "    if i%2==0:\n",
    "        list2.append(i+10)\n",
    "    else:\n",
    "        list2.append(i*5)\n",
    "     \n",
    "print(list2)"
   ]
  },
  {
   "cell_type": "code",
   "execution_count": 20,
   "id": "bcfb78e8",
   "metadata": {},
   "outputs": [
    {
     "name": "stdout",
     "output_type": "stream",
     "text": [
      "Hi Priya,Hope you are going good\n",
      "Hi Ramya,How are you?\n"
     ]
    }
   ],
   "source": [
    "#.Write a simple user defined function that greets a person in such a way that :\n",
    "# i) It should accept both name of person and message you want to deliver.\n",
    "# ii) If no message is provided, it should greet a default message ‘How are you’\n",
    "\n",
    "def greet(name,message = \"How are you?\"):\n",
    "    print(\"Hi \" +name +',' +message)\n",
    "    \n",
    "greet('Priya',\"Hope you are going good\")\n",
    "greet('Ramya')"
   ]
  }
 ],
 "metadata": {
  "kernelspec": {
   "display_name": "Python 3 (ipykernel)",
   "language": "python",
   "name": "python3"
  },
  "language_info": {
   "codemirror_mode": {
    "name": "ipython",
    "version": 3
   },
   "file_extension": ".py",
   "mimetype": "text/x-python",
   "name": "python",
   "nbconvert_exporter": "python",
   "pygments_lexer": "ipython3",
   "version": "3.10.9"
  }
 },
 "nbformat": 4,
 "nbformat_minor": 5
}
