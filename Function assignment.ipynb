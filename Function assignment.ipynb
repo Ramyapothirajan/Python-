{
 "cells": [
  {
   "cell_type": "code",
   "execution_count": 19,
   "id": "8331fed4",
   "metadata": {},
   "outputs": [
    {
     "name": "stdout",
     "output_type": "stream",
     "text": [
      "The maximum of given three numbers :  17\n"
     ]
    }
   ],
   "source": [
    "#1.\t Write a Python function to find the Max of three numbers.\n",
    "\n",
    "def max_of_three(a,b,c):\n",
    "    if(a>b and a>c):\n",
    "        print(\"The maximum of given three numbers : \",a)\n",
    "    elif(b>a and b>c):\n",
    "        print(\"The maximum of given three numbers : \",b)\n",
    "    else:\n",
    "        print(\"The maximum of given three numbers : \",c)\n",
    "\n",
    "max_of_three(13,17,9)"
   ]
  },
  {
   "cell_type": "code",
   "execution_count": 7,
   "id": "de5b6eef",
   "metadata": {},
   "outputs": [
    {
     "name": "stdout",
     "output_type": "stream",
     "text": [
      "Enter the number of elements in a list:4\n",
      "Enter the 1st element :1\n",
      "Enter the 2st element :23\n",
      "Enter the 3st element :4\n",
      "Enter the 4st element :5\n",
      "The sum of all numbers in the list : 33\n"
     ]
    }
   ],
   "source": [
    "#2.\t Write a Python function to sum all the numbers in a list.\n",
    "\n",
    "def sum_list():\n",
    "    list1=[]\n",
    "    num = int(input(\"Enter the number of elements in a list:\"))\n",
    "    for i in range(num):\n",
    "        val = int(input(\"Enter the %dst element :\"%(i+1))) \n",
    "        list1.append(val)\n",
    "    s=sum(list1)\n",
    "    print(\"The sum of all numbers in the list :\",s)\n",
    "        \n",
    "sum_list()"
   ]
  },
  {
   "cell_type": "code",
   "execution_count": 17,
   "id": "98aee102",
   "metadata": {},
   "outputs": [
    {
     "name": "stdout",
     "output_type": "stream",
     "text": [
      "Enter the number of elements in a list:5\n",
      "Enter the 1st element :2\n",
      "Enter the 2st element :2\n",
      "Enter the 3st element :4\n",
      "Enter the 4st element :2\n",
      "Enter the 5st element :3\n",
      "[2, 2, 4, 2, 3]\n",
      "The multiplication of all numbers in the list : 96\n"
     ]
    }
   ],
   "source": [
    "#3.Write a Python function to multiply all the numbers in a list.\n",
    "\n",
    "def multiply_list():\n",
    "    list1=[]\n",
    "    num = int(input(\"Enter the number of elements in a list:\"))\n",
    "    mul=1\n",
    "    for i in range(num):\n",
    "        val = int(input(\"Enter the %sst element :\"%(i+1))) \n",
    "        list1.append(val)\n",
    "    print(list1)\n",
    "    for i in list1:\n",
    "        mul*=i\n",
    "    print(\"The multiplication of all numbers in the list :\",mul)\n",
    "        \n",
    "multiply_list()"
   ]
  }
 ],
 "metadata": {
  "kernelspec": {
   "display_name": "Python 3 (ipykernel)",
   "language": "python",
   "name": "python3"
  },
  "language_info": {
   "codemirror_mode": {
    "name": "ipython",
    "version": 3
   },
   "file_extension": ".py",
   "mimetype": "text/x-python",
   "name": "python",
   "nbconvert_exporter": "python",
   "pygments_lexer": "ipython3",
   "version": "3.10.9"
  }
 },
 "nbformat": 4,
 "nbformat_minor": 5
}
