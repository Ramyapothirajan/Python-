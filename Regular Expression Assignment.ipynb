{
 "cells": [
  {
   "cell_type": "code",
   "execution_count": 3,
   "id": "cf04cdcf",
   "metadata": {},
   "outputs": [
    {
     "name": "stdout",
     "output_type": "stream",
     "text": [
      "Enter a sentence :I have a dog\n",
      "The given sentence is invalid since it contains non alpa-numeric characters\n"
     ]
    }
   ],
   "source": [
    "# 1)Write a Python program to check that a string contains only a certain set of characters (in this case a-z, A-Z and 0-9)\n",
    "\n",
    "import re\n",
    "\n",
    "def match(str,pattern):\n",
    "    if re.search(pattern,str):\n",
    "        print(\"The given sentence is a valid string with the mentioned characters\")\n",
    "    else:\n",
    "        print(\"The given sentence is invalid since it contains non alpa-numeric characters\")\n",
    "        \n",
    "pattern = re.compile(r\"^[a-zA-Z0-9]+$\")\n",
    "new_str = str(input(\"Enter a sentence :\"))\n",
    "match(new_str,pattern)\n"
   ]
  },
  {
   "cell_type": "code",
   "execution_count": 13,
   "id": "b44cae06",
   "metadata": {},
   "outputs": [
    {
     "name": "stdout",
     "output_type": "stream",
     "text": [
      "Enter a string :I like chocolates, ice-creams etc.,\n",
      "I:like:chocolates::ice-creams:etc::\n"
     ]
    }
   ],
   "source": [
    "# 2) Write a Python program to replace all occurrences of space, comma, or dot with a colon.\n",
    "\n",
    "import re\n",
    "str_1 = str(input(\"Enter a string :\"))\n",
    "result = re.sub(r\"[,.\\s]\", \":\",str_1)\n",
    "print(result)\n"
   ]
  }
 ],
 "metadata": {
  "kernelspec": {
   "display_name": "Python 3 (ipykernel)",
   "language": "python",
   "name": "python3"
  },
  "language_info": {
   "codemirror_mode": {
    "name": "ipython",
    "version": 3
   },
   "file_extension": ".py",
   "mimetype": "text/x-python",
   "name": "python",
   "nbconvert_exporter": "python",
   "pygments_lexer": "ipython3",
   "version": "3.10.9"
  }
 },
 "nbformat": 4,
 "nbformat_minor": 5
}
